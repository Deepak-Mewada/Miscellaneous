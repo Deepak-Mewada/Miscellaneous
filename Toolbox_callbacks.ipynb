{
  "nbformat": 4,
  "nbformat_minor": 0,
  "metadata": {
    "colab": {
      "provenance": [],
      "authorship_tag": "ABX9TyNvbIHvdlhUN56Y7xlroQHP",
      "include_colab_link": true
    },
    "kernelspec": {
      "name": "python3",
      "display_name": "Python 3"
    },
    "language_info": {
      "name": "python"
    }
  },
  "cells": [
    {
      "cell_type": "markdown",
      "metadata": {
        "id": "view-in-github",
        "colab_type": "text"
      },
      "source": [
        "<a href=\"https://colab.research.google.com/github/Deepak-Mewada/Miscellaneous/blob/main/Toolbox_callbacks.ipynb\" target=\"_parent\"><img src=\"https://colab.research.google.com/assets/colab-badge.svg\" alt=\"Open In Colab\"/></a>"
      ]
    },
    {
      "cell_type": "code",
      "execution_count": null,
      "metadata": {
        "id": "jpzwED5gzW_J"
      },
      "outputs": [],
      "source": [
        "  from tensorflow.keras.callbacks import EarlyStopping, ModelCheckpoint\n",
        "  \n",
        "   callbacks = [\n",
        "        EarlyStopping(\n",
        "            monitor='val_accuracy',\n",
        "            min_delta=1e-4,\n",
        "            patience=3,\n",
        "            verbose=1\n",
        "        ),\n",
        "        ModelCheckpoint(\n",
        "            filepath='mymodel.h5',\n",
        "            monitor='val_accuracy',\n",
        "            mode='max',\n",
        "            save_best_only=True,\n",
        "            save_weights_only=False,\n",
        "            verbose=1\n",
        "        )\n",
        "    ]\n",
        "\n",
        "\n",
        "    model.fit(training_padded, training_labels, epochs=num_epochs,\n",
        "              validation_data=(testing_padded, testing_labels), verbose=1, callbacks=callbacks)"
      ]
    },
    {
      "cell_type": "code",
      "source": [],
      "metadata": {
        "id": "oY4LTZCWzjax"
      },
      "execution_count": null,
      "outputs": []
    },
    {
      "cell_type": "markdown",
      "metadata": {
        "id": "xZwDJMtc2rD0"
      },
      "source": [
        "## Adjusting the learning rate - (Optional Exercise)\n",
        "\n",
        "As you saw in the lecture you can leverage Tensorflow's callbacks to dinamically vary the learning rate during training. This can be helpful to get a better sense of which learning rate better acommodates to the problem at hand.\n",
        "\n",
        "**Notice that this is only changing the learning rate during the training process to give you an idea of what a reasonable learning rate is and should not be confused with selecting the best learning rate, this is known as hyperparameter optimization and it is outside the scope of this course.**\n",
        "\n",
        "For the optimizers you can try out:\n",
        "\n",
        "- tf.keras.optimizers.Adam\n",
        "- tf.keras.optimizers.SGD with a momentum of 0.9"
      ]
    },
    {
      "cell_type": "code",
      "source": [
        "lambda epoch: 1e-4 * 10**(epoch / 20)"
      ],
      "metadata": {
        "id": "66k9wBEY_A7n"
      },
      "execution_count": null,
      "outputs": []
    },
    {
      "cell_type": "code",
      "execution_count": null,
      "metadata": {
        "id": "ftBzvMvZ2rD0"
      },
      "outputs": [],
      "source": [
        "def adjust_learning_rate(dataset):\n",
        "    \n",
        "    model = create_uncompiled_model()\n",
        "    \n",
        "    lr_schedule = tf.keras.callbacks.LearningRateScheduler(lambda epoch: 1e-4 * 10**(epoch / 20))\n",
        "    \n",
        "    ### START CODE HERE\n",
        "    \n",
        "    # Select your optimizer\n",
        "    optimizer = tf.keras.optimizers.SGD(momentum=0.9)\n",
        "    \n",
        "    # Compile the model passing in the appropriate loss\n",
        "    model.compile(loss=tf.keras.losses.Huber(),\n",
        "                  optimizer=optimizer, \n",
        "                  metrics=[\"mae\"]) \n",
        "    \n",
        "    ### END CODE HERE\n",
        "    \n",
        "    history = model.fit(dataset, epochs=100, callbacks=[lr_schedule])\n",
        "    \n",
        "    return history"
      ]
    },
    {
      "cell_type": "code",
      "execution_count": null,
      "metadata": {
        "id": "Ll7mRbhh2rD0"
      },
      "outputs": [],
      "source": [
        "# Run the training with dynamic LR\n",
        "lr_history = adjust_learning_rate(train_set)"
      ]
    },
    {
      "cell_type": "code",
      "execution_count": null,
      "metadata": {
        "colab": {
          "base_uri": "https://localhost:8080/",
          "height": 290
        },
        "id": "vVcKmg7Q_7rD",
        "outputId": "27cf16ae-eb85-47c3-fc86-18e72e528619"
      },
      "outputs": [
        {
          "data": {
            "text/plain": [
              "(0.0001, 10.0, 0.0, 10.0)"
            ]
          },
          "execution_count": 107,
          "metadata": {},
          "output_type": "execute_result"
        },
        {
          "data": {
            "image/png": "[encoded data removed]",
            "text/plain": [
              "<Figure size 432x288 with 1 Axes>"
            ]
          },
          "metadata": {
            "needs_background": "light"
          },
          "output_type": "display_data"
        }
      ],
      "source": [
        "plt.semilogx(lr_history.history[\"lr\"], lr_history.history[\"loss\"])\n",
        "plt.axis([1e-4, 10, 0, 10])"
      ]
    },
    {
      "cell_type": "markdown",
      "metadata": {
        "id": "WVWRSD672rD1"
      },
      "source": [
        "## Compiling the model\n",
        "Now that you have trained the model while varying the learning rate, it is time to do the actual training that will be used to forecast the time series. For this complete the `create_model` function below.\n",
        "\n",
        "Notice that you are reusing the architecture you defined in the `create_uncompiled_model` earlier. Now you only need to compile this model using the appropriate loss, optimizer (and learning rate).\n",
        "\n",
        "Hints:\n",
        "\n",
        "- The training should be really quick so if you notice that each epoch is taking more than a few seconds, consider trying a different architecture.\n",
        "\n",
        "\n",
        "- If after the first epoch you get an output like this: loss: nan - mae: nan it is very likely that your network is suffering from exploding gradients. This is a common problem if you used SGD as optimizer and set a learning rate that is too high. If you encounter this problem consider lowering the learning rate or using Adam with the default learning rate."
      ]
    },
    {
      "cell_type": "code",
      "execution_count": null,
      "metadata": {
        "id": "eSs7MONa2rD1"
      },
      "outputs": [],
      "source": [
        "def create_model():\n",
        "\n",
        "    \n",
        "    model = create_uncompiled_model()\n",
        "\n",
        "    ### START CODE HERE\n",
        "\n",
        "    model.compile(loss=tf.keras.losses.Huber(),\n",
        "                  optimizer=tf.keras.optimizers.SGD(learning_rate=1e-3, momentum=0.9),\n",
        "                  metrics=[\"mae\"])  \n",
        "    \n",
        "\n",
        "    ### END CODE HERE\n",
        "\n",
        "    return model"
      ]
    },
    {
      "cell_type": "code",
      "execution_count": null,
      "metadata": {
        "id": "PHBlF6H82rD1"
      },
      "outputs": [],
      "source": [
        "# Save an instance of the model\n",
        "model = create_model()\n",
        "\n",
        "# Train it\n",
        "history = model.fit(train_set, epochs=50)"
      ]
    },
    {
      "cell_type": "code",
      "source": [
        "rmsprop :  0.046221826  score 1/5\n",
        "\n",
        "adam : 0.05758066  150\n",
        "\n",
        "adam 200 0.0654276\n",
        "\n",
        "mymodel1 0.04 adam\n",
        "\n",
        "rmse "
      ],
      "metadata": {
        "id": "G0livi6VXlTc"
      },
      "execution_count": null,
      "outputs": []
    },
    {
      "cell_type": "code",
      "source": [
        "4 2 4 3 4"
      ],
      "metadata": {
        "id": "QYrDkhRzgcB7"
      },
      "execution_count": null,
      "outputs": []
    }
  ]
}